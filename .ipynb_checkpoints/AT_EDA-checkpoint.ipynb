{
 "cells": [
  {
   "cell_type": "markdown",
   "id": "07f265f5",
   "metadata": {},
   "source": [
    "## Setup"
   ]
  },
  {
   "cell_type": "code",
   "execution_count": 1,
   "id": "1b35149e",
   "metadata": {},
   "outputs": [],
   "source": [
    "from pathlib import Path\n",
    "import pandas as pd\n",
    "import numpy as np\n",
    "import altair as alt\n",
    "import matplotlib as plt\n",
    "import seaborn as sns\n",
    "import geopandas as gpd\n",
    "import datetime\n",
    "from geopy import distance"
   ]
  },
  {
   "cell_type": "markdown",
   "id": "9443a3a9",
   "metadata": {},
   "source": [
    "## Read in data"
   ]
  },
  {
   "cell_type": "code",
   "execution_count": 2,
   "id": "97614f85",
   "metadata": {},
   "outputs": [],
   "source": [
    "tmp = pd.read_csv('data/elwha.cleaned.2000-2023.csv')"
   ]
  },
  {
   "cell_type": "code",
   "execution_count": 3,
   "id": "4b5af82d",
   "metadata": {},
   "outputs": [
    {
     "data": {
      "text/plain": [
       "15548295"
      ]
     },
     "execution_count": 3,
     "metadata": {},
     "output_type": "execute_result"
    }
   ],
   "source": [
    "len(tmp)"
   ]
  },
  {
   "cell_type": "code",
   "execution_count": 3,
   "id": "6895bca5",
   "metadata": {},
   "outputs": [],
   "source": [
    "site_names = pd.read_excel(\"data/Temperature Site Names.xlsx\", \"Master\")"
   ]
  },
  {
   "cell_type": "code",
   "execution_count": 4,
   "id": "e296371a",
   "metadata": {},
   "outputs": [],
   "source": [
    "elwha_streams = gpd.read_file('data/shapefiles/elwha_streams/elwha_streams.shp')"
   ]
  },
  {
   "cell_type": "code",
   "execution_count": 6,
   "id": "208d3767",
   "metadata": {},
   "outputs": [],
   "source": [
    "# #Create empty dataframe\n",
    "# tpreds = pd.DataFrame()\n",
    "\n",
    "# #Iterate over directory to get all files\n",
    "# for child in Path('data/st_pred_171100').iterdir():\n",
    "#     if child.is_file():\n",
    "#         tpreds = pd.concat([tpreds, pd.read_csv('data/st_pred_171100/' + f\"{child.name}\")])"
   ]
  },
  {
   "cell_type": "markdown",
   "id": "4b25ccfc",
   "metadata": {},
   "source": [
    "## Look at contents of data frames"
   ]
  },
  {
   "cell_type": "code",
   "execution_count": 7,
   "id": "2510c395",
   "metadata": {},
   "outputs": [],
   "source": [
    "#tmp.info()"
   ]
  },
  {
   "cell_type": "code",
   "execution_count": 8,
   "id": "70ff5ff8",
   "metadata": {},
   "outputs": [],
   "source": [
    "#site_names.head()"
   ]
  },
  {
   "cell_type": "code",
   "execution_count": 9,
   "id": "4ab3d329",
   "metadata": {},
   "outputs": [],
   "source": [
    "#tmp.head()"
   ]
  },
  {
   "cell_type": "code",
   "execution_count": 10,
   "id": "6dccc087",
   "metadata": {},
   "outputs": [],
   "source": [
    "#tpreds"
   ]
  },
  {
   "cell_type": "markdown",
   "id": "3b1f7c55",
   "metadata": {},
   "source": [
    "## Data Filtering to One Year"
   ]
  },
  {
   "cell_type": "code",
   "execution_count": 11,
   "id": "c8d8232c",
   "metadata": {},
   "outputs": [],
   "source": [
    "tmp['year'] = tmp['DateTime'].apply(lambda x: x[:4]).astype(int)"
   ]
  },
  {
   "cell_type": "code",
   "execution_count": 12,
   "id": "5c324870",
   "metadata": {},
   "outputs": [],
   "source": [
    "small_tmp = tmp.loc[tmp['year'] == 2023]"
   ]
  },
  {
   "cell_type": "code",
   "execution_count": 13,
   "id": "7f682b7b",
   "metadata": {},
   "outputs": [
    {
     "data": {
      "text/plain": [
       "117771"
      ]
     },
     "execution_count": 13,
     "metadata": {},
     "output_type": "execute_result"
    }
   ],
   "source": [
    "len(small_tmp)"
   ]
  },
  {
   "cell_type": "markdown",
   "id": "2e38c5b8",
   "metadata": {},
   "source": [
    "## Aggregate Data by Time"
   ]
  },
  {
   "cell_type": "code",
   "execution_count": 14,
   "id": "4c7b18fb",
   "metadata": {},
   "outputs": [],
   "source": [
    "#Get just date from date time\n",
    "tmp['Date'] = tmp['DateTime'].apply(lambda x: x.split('T')[0])\n",
    "\n",
    "#Get just the month from date\n",
    "tmp['Month'] = tmp['Date'].apply(lambda x: x.split('-')[0] + '-' + x.split('-')[1])"
   ]
  },
  {
   "cell_type": "code",
   "execution_count": 15,
   "id": "1706b44f",
   "metadata": {},
   "outputs": [],
   "source": [
    "#Convert to date time format\n",
    "tmp['Date'] = tmp['Date'].apply(lambda x: datetime.datetime.strptime(x, '%Y-%m-%d'))\n",
    "tmp['Month'] = tmp['Month'].apply(lambda x: datetime.datetime.strptime(x, '%Y-%m'))"
   ]
  },
  {
   "cell_type": "code",
   "execution_count": 16,
   "id": "2f9b387a",
   "metadata": {},
   "outputs": [],
   "source": [
    "#tmp.head(-5)"
   ]
  },
  {
   "cell_type": "code",
   "execution_count": 17,
   "id": "6cf9fe40",
   "metadata": {},
   "outputs": [],
   "source": [
    "tmp_grouped = tmp[['Month', 'Temp']].groupby(['Month']).mean().reset_index()"
   ]
  },
  {
   "cell_type": "code",
   "execution_count": 18,
   "id": "83e3e7fc",
   "metadata": {},
   "outputs": [],
   "source": [
    "#tmp_grouped.head()"
   ]
  },
  {
   "cell_type": "code",
   "execution_count": 19,
   "id": "a2bed899",
   "metadata": {},
   "outputs": [],
   "source": [
    "#tmp_grouped.to_csv('daily-avg-tmp-23.csv', index = False)"
   ]
  },
  {
   "cell_type": "code",
   "execution_count": 20,
   "id": "6c9917ef",
   "metadata": {},
   "outputs": [
    {
     "data": {
      "text/plain": [
       "Text(0.5, 1.0, 'Average Monthly Temperature')"
      ]
     },
     "execution_count": 20,
     "metadata": {},
     "output_type": "execute_result"
    },
    {
     "data": {
      "image/png": "[encoded data removed]",
      "text/plain": [
       "<Figure size 900x600 with 1 Axes>"
      ]
     },
     "metadata": {},
     "output_type": "display_data"
    }
   ],
   "source": [
    "ax = tmp_grouped.plot(x='Month', y= 'Temp', marker='.', figsize=(9, 6))\n",
    "ax.set_xlabel('Date (Month-Year)')\n",
    "ax.set_ylabel('Average Temperature')\n",
    "ax.set_title('Average Monthly Temperature')\n",
    "#ax.get_figure().savefig('AvgMonthly.png')"
   ]
  },
  {
   "cell_type": "markdown",
   "id": "e860980b",
   "metadata": {},
   "source": [
    "## Missing Data"
   ]
  },
  {
   "cell_type": "code",
   "execution_count": 21,
   "id": "e07f1e68",
   "metadata": {},
   "outputs": [
    {
     "data": {
      "text/plain": [
       "0.9224094989193349"
      ]
     },
     "execution_count": 21,
     "metadata": {},
     "output_type": "execute_result"
    }
   ],
   "source": [
    "tmp['Temp'].isna().sum()/len(tmp)"
   ]
  },
  {
   "cell_type": "code",
   "execution_count": 22,
   "id": "81479177",
   "metadata": {},
   "outputs": [],
   "source": [
    "#Calculate percentage of NA values per site\n",
    "sites = tmp['Site'].unique()\n",
    "pct_na = []\n",
    "for site in sites:\n",
    "    pct_na.append({\n",
    "        'Site' : site,\n",
    "        'pct_na':tmp.loc[tmp['Site'] == site, 'Temp'].isna().sum()/len(tmp.loc[tmp['Site'] == site, :])\n",
    "    })\n",
    "pct_na = pd.DataFrame(pct_na)"
   ]
  },
  {
   "cell_type": "code",
   "execution_count": 23,
   "id": "d629e80c",
   "metadata": {},
   "outputs": [],
   "source": [
    "#Calculate percentage of NA values per day\n",
    "dates = tmp['Date'].unique()\n",
    "pct_na_date = []\n",
    "for day in dates:\n",
    "    pct_na_date.append({\n",
    "        'Date' : day,\n",
    "        'pct_na_dates':tmp.loc[tmp['Date'] == day, 'Temp'].isna().sum()/len(tmp.loc[tmp['Date'] == day, :])\n",
    "    })\n",
    "pct_na_date = pd.DataFrame(pct_na_date)"
   ]
  },
  {
   "cell_type": "code",
   "execution_count": 24,
   "id": "3932b938",
   "metadata": {},
   "outputs": [],
   "source": [
    "#pct_na.info()"
   ]
  },
  {
   "cell_type": "code",
   "execution_count": 25,
   "id": "bad3bcd4",
   "metadata": {},
   "outputs": [
    {
     "data": {
      "text/plain": [
       "Text(0.5, 1.0, 'Missing Data by Date')"
      ]
     },
     "execution_count": 25,
     "metadata": {},
     "output_type": "execute_result"
    },
    {
     "data": {
      "image/png": "[encoded data removed]",
      "text/plain": [
       "<Figure size 900x600 with 1 Axes>"
      ]
     },
     "metadata": {},
     "output_type": "display_data"
    }
   ],
   "source": [
    "ax = pct_na_date.plot(x='Date', y= 'pct_na_dates', figsize=(9, 6))\n",
    "ax.set_xlabel('Date')\n",
    "ax.set_ylabel('Pcercentage NA')\n",
    "ax.set_title('Missing Data by Date')\n",
    "#ax.get_figure().savefig('MissingbyDate.png')"
   ]
  },
  {
   "cell_type": "code",
   "execution_count": 26,
   "id": "d20b86fc",
   "metadata": {},
   "outputs": [
    {
     "data": {
      "text/plain": [
       "Text(0.5, 1.0, 'Missing Data by Site')"
      ]
     },
     "execution_count": 26,
     "metadata": {},
     "output_type": "execute_result"
    },
    {
     "data": {
      "image/png": "[encoded data removed]",
      "text/plain": [
       "<Figure size 640x480 with 1 Axes>"
      ]
     },
     "metadata": {},
     "output_type": "display_data"
    }
   ],
   "source": [
    "ax = pct_na['pct_na'].hist()\n",
    "ax.set_xlabel('Percentage Missing')\n",
    "ax.set_ylabel('Number of Sites')\n",
    "ax.set_title('Missing Data by Site')\n",
    "#ax.get_figure().savefig('MissingbySite.png')"
   ]
  },
  {
   "cell_type": "code",
   "execution_count": null,
   "id": "8f68a19c",
   "metadata": {},
   "outputs": [],
   "source": []
  },
  {
   "cell_type": "code",
   "execution_count": 27,
   "id": "b33e6847",
   "metadata": {},
   "outputs": [
    {
     "data": {
      "text/html": [
       "<div>\n",
       "<style scoped>\n",
       "    .dataframe tbody tr th:only-of-type {\n",
       "        vertical-align: middle;\n",
       "    }\n",
       "\n",
       "    .dataframe tbody tr th {\n",
       "        vertical-align: top;\n",
       "    }\n",
       "\n",
       "    .dataframe thead th {\n",
       "        text-align: right;\n",
       "    }\n",
       "</style>\n",
       "<table border=\"1\" class=\"dataframe\">\n",
       "  <thead>\n",
       "    <tr style=\"text-align: right;\">\n",
       "      <th></th>\n",
       "      <th>Site</th>\n",
       "      <th>pct_na</th>\n",
       "    </tr>\n",
       "  </thead>\n",
       "  <tbody>\n",
       "    <tr>\n",
       "      <th>9</th>\n",
       "      <td>MS11</td>\n",
       "      <td>0.698353</td>\n",
       "    </tr>\n",
       "    <tr>\n",
       "      <th>68</th>\n",
       "      <td>IC02</td>\n",
       "      <td>0.614920</td>\n",
       "    </tr>\n",
       "    <tr>\n",
       "      <th>76</th>\n",
       "      <td>LR02</td>\n",
       "      <td>0.476889</td>\n",
       "    </tr>\n",
       "    <tr>\n",
       "      <th>81</th>\n",
       "      <td>MS16-5</td>\n",
       "      <td>0.382999</td>\n",
       "    </tr>\n",
       "    <tr>\n",
       "      <th>82</th>\n",
       "      <td>LS01</td>\n",
       "      <td>0.246870</td>\n",
       "    </tr>\n",
       "    <tr>\n",
       "      <th>84</th>\n",
       "      <td>MS00</td>\n",
       "      <td>0.000000</td>\n",
       "    </tr>\n",
       "    <tr>\n",
       "      <th>85</th>\n",
       "      <td>MS01</td>\n",
       "      <td>0.000000</td>\n",
       "    </tr>\n",
       "    <tr>\n",
       "      <th>86</th>\n",
       "      <td>ES01</td>\n",
       "      <td>0.000000</td>\n",
       "    </tr>\n",
       "    <tr>\n",
       "      <th>87</th>\n",
       "      <td>ES02</td>\n",
       "      <td>0.000000</td>\n",
       "    </tr>\n",
       "  </tbody>\n",
       "</table>\n",
       "</div>"
      ],
      "text/plain": [
       "      Site    pct_na\n",
       "9     MS11  0.698353\n",
       "68    IC02  0.614920\n",
       "76    LR02  0.476889\n",
       "81  MS16-5  0.382999\n",
       "82    LS01  0.246870\n",
       "84    MS00  0.000000\n",
       "85    MS01  0.000000\n",
       "86    ES01  0.000000\n",
       "87    ES02  0.000000"
      ]
     },
     "execution_count": 27,
     "metadata": {},
     "output_type": "execute_result"
    }
   ],
   "source": [
    "pct_na.loc[pct_na['pct_na'] < 0.75]"
   ]
  },
  {
   "cell_type": "code",
   "execution_count": 28,
   "id": "a7d8507b",
   "metadata": {},
   "outputs": [],
   "source": [
    "#"
   ]
  },
  {
   "cell_type": "code",
   "execution_count": 38,
   "id": "ef5b80c0",
   "metadata": {},
   "outputs": [],
   "source": [
    "#Color map of missing data\n",
    "streams_chart = alt.Chart(elwha_streams).mark_geoshape(\n",
    "    stroke = 'black', fill = 'none'\n",
    ").project(\n",
    "    type='mercator'\n",
    ")\n",
    "\n",
    "sites_chart = alt.Chart(site_names).mark_circle().encode(\n",
    "    longitude='LONG:Q',\n",
    "    latitude='LAT:Q',\n",
    "    color = alt.Color('pct_na:Q').scale(scheme=\"lightorange\"),\n",
    "    size=alt.value(50),\n",
    ").transform_lookup(\n",
    "    lookup='Temp_Alias',\n",
    "    from_=alt.LookupData(pct_na, 'Site', [\"pct_na\"])\n",
    ").project(\n",
    "    \"mercator\"\n",
    ").properties(\n",
    "    width = 500,\n",
    "    height= 1000\n",
    ")\n",
    "\n",
    "missingdata = alt.layer(streams_chart, sites_chart)\n",
    "missingdata.save('missingmap.png')"
   ]
  },
  {
   "cell_type": "markdown",
   "id": "4ffddec7",
   "metadata": {},
   "source": [
    "## Active Sites"
   ]
  },
  {
   "cell_type": "code",
   "execution_count": 5,
   "id": "14c309c1",
   "metadata": {},
   "outputs": [],
   "source": [
    "#Get a list of the names of active sites\n",
    "active_sites = list(site_names.loc[site_names['Monitoring'].notna()]['Temp_Alias'].unique())"
   ]
  },
  {
   "cell_type": "code",
   "execution_count": 6,
   "id": "ab708c68",
   "metadata": {},
   "outputs": [
    {
     "data": {
      "text/plain": [
       "0.9224094989193349"
      ]
     },
     "execution_count": 6,
     "metadata": {},
     "output_type": "execute_result"
    }
   ],
   "source": [
    "#Percentage of NA for all sites\n",
    "tmp['Temp'].isna().sum()/len(tmp)"
   ]
  },
  {
   "cell_type": "code",
   "execution_count": 7,
   "id": "4dcb6b99",
   "metadata": {},
   "outputs": [
    {
     "data": {
      "text/plain": [
       "0.8715644797328127"
      ]
     },
     "execution_count": 7,
     "metadata": {},
     "output_type": "execute_result"
    }
   ],
   "source": [
    "#Check percent NA for active sites only\n",
    "tmp.loc[tmp['Site'].isin(active_sites)]['Temp'].isna().sum()/len(tmp.loc[tmp['Site'].isin(active_sites)]['Temp'])"
   ]
  },
  {
   "cell_type": "code",
   "execution_count": 8,
   "id": "f1a04c14",
   "metadata": {},
   "outputs": [
    {
     "data": {
      "text/plain": [
       "0.9453395149000582"
      ]
     },
     "execution_count": 8,
     "metadata": {},
     "output_type": "execute_result"
    }
   ],
   "source": [
    "#Percent NA for non-active sites\n",
    "tmp.loc[~tmp['Site'].isin(active_sites)]['Temp'].isna().sum()/len(tmp.loc[~tmp['Site'].isin(active_sites)]['Temp'])"
   ]
  },
  {
   "cell_type": "code",
   "execution_count": 9,
   "id": "7d80c4ab",
   "metadata": {},
   "outputs": [],
   "source": [
    "#Data for just active sites\n",
    "active_tmp = tmp.loc[tmp['Site'].isin(active_sites), ]\n",
    "active_names = site_names.loc[site_names['Monitoring'].notna(),]"
   ]
  },
  {
   "cell_type": "code",
   "execution_count": 10,
   "id": "16ef68d4",
   "metadata": {},
   "outputs": [],
   "source": [
    "#Fill NA for graphing\n",
    "site_names['Monitoring'] = site_names['Monitoring'].fillna('N')\n",
    "\n",
    "#Replace X with Y for yes\n",
    "site_names['Monitoring'] = site_names['Monitoring'].replace({'X':'Y'})"
   ]
  },
  {
   "cell_type": "code",
   "execution_count": 13,
   "id": "387c699d",
   "metadata": {
    "scrolled": false
   },
   "outputs": [],
   "source": [
    "#Map active sites\n",
    "streams_chart = alt.Chart(elwha_streams).mark_geoshape(\n",
    "    stroke = 'black', fill = 'none'\n",
    ").project(\n",
    "    type='mercator'\n",
    ")\n",
    "\n",
    "sites_chart = alt.Chart(site_names).mark_circle(size = 50).encode(\n",
    "    longitude='LONG:Q',\n",
    "    latitude='LAT:Q',\n",
    "    color = alt.Color('Monitoring:N', scale = alt.Scale(domain = ['Y', 'N'], range = ['blue', 'red'])),\n",
    "    tooltip = alt.Tooltip('Temp_Alias:N')\n",
    ").project(\n",
    "    \"mercator\"\n",
    ").properties(\n",
    "    width = 500,\n",
    "    height= 1000\n",
    ")\n",
    "\n",
    "activesites = alt.layer(streams_chart, sites_chart)\n",
    "activesites.save('activemap.png')"
   ]
  },
  {
   "cell_type": "markdown",
   "id": "525a18b5",
   "metadata": {},
   "source": [
    "## Temps analysis- one site"
   ]
  },
  {
   "cell_type": "code",
   "execution_count": null,
   "id": "1ec36d50",
   "metadata": {},
   "outputs": [],
   "source": [
    "#Get top 5 sites by lowest percentage NA for active sites\n",
    "pct_na.loc[pct_na['Site'].isin(active_sites)].sort_values(by = 'pct_na').head()"
   ]
  },
  {
   "cell_type": "code",
   "execution_count": null,
   "id": "e488cda2",
   "metadata": {},
   "outputs": [],
   "source": [
    "#Combine Lat Long into one column to use in distance calculation\n",
    "site_names['coord'] = site_names['LAT'].astype(str)+ ', ' + site_names['LONG'].astype(str)"
   ]
  },
  {
   "cell_type": "code",
   "execution_count": null,
   "id": "845f48ea",
   "metadata": {},
   "outputs": [],
   "source": [
    "#Using ES01 as our site, loop over sites and get distance to ES01\n",
    "es01 = site_names.loc[site_names['Temp_Alias'] == 'ES01', 'coord']\n",
    "dist_es01 = []\n",
    "for site in sites:\n",
    "    dist_es01.append({\n",
    "        'Site' : site,\n",
    "        'Dist': distance.distance(es01, site_names.loc[site_names['Temp_Alias'] == site, 'coord']).miles\n",
    "    })\n",
    "    \n",
    "dist_es01 = pd.DataFrame(dist_es01)"
   ]
  },
  {
   "cell_type": "code",
   "execution_count": null,
   "id": "e89cf3e3",
   "metadata": {},
   "outputs": [],
   "source": [
    "#List of closest 4 sites to ES01 plus ES01\n",
    "graph_sites = list(dist_es01.head().sort_values(by = 'Dist').head()['Site']) \n",
    "graph_sites.append('ES01')\n",
    "graph_sites"
   ]
  },
  {
   "cell_type": "code",
   "execution_count": null,
   "id": "0441e15f",
   "metadata": {},
   "outputs": [],
   "source": [
    "#Temps just for the five selected sites\n",
    "tmp_4 = tmp.loc[tmp['Site'].isin(graph_sites)]"
   ]
  },
  {
   "cell_type": "code",
   "execution_count": null,
   "id": "e108d88e",
   "metadata": {},
   "outputs": [],
   "source": [
    "sns.lineplot(data=tmp_4, x=\"DateTime\", y=\"Temp\", hue = 'Site')"
   ]
  },
  {
   "cell_type": "markdown",
   "id": "57d6db9b",
   "metadata": {},
   "source": [
    "## Clustering into Regions"
   ]
  },
  {
   "cell_type": "code",
   "execution_count": null,
   "id": "b6360b2c",
   "metadata": {},
   "outputs": [],
   "source": [
    "site_names.head()"
   ]
  },
  {
   "cell_type": "code",
   "execution_count": null,
   "id": "3662cac7",
   "metadata": {},
   "outputs": [],
   "source": [
    "mainstem_names = site_names.loc[site_names['HABITAT'] == 'MS']"
   ]
  },
  {
   "cell_type": "code",
   "execution_count": null,
   "id": "9779ea8e",
   "metadata": {
    "scrolled": true
   },
   "outputs": [],
   "source": [
    "mainstem_locations = site_names.loc[site_names['HABITAT'] == 'MS', ['LAT', 'LONG']]\n",
    "mainstem_locations.head()"
   ]
  },
  {
   "cell_type": "code",
   "execution_count": null,
   "id": "b53d3dca",
   "metadata": {},
   "outputs": [],
   "source": [
    "from sklearn.cluster import AgglomerativeClustering"
   ]
  },
  {
   "cell_type": "code",
   "execution_count": null,
   "id": "7610abc8",
   "metadata": {},
   "outputs": [],
   "source": [
    "# Set seed for reproducibility\n",
    "np.random.seed(0)\n",
    "# Initialize the algorithm\n",
    "model = AgglomerativeClustering(linkage=\"ward\", n_clusters=5)\n",
    "# Run clustering\n",
    "model.fit(mainstem_locations)\n",
    "# Assign labels to main data table\n",
    "mainstem_names[\"ward5\"] = model.labels_"
   ]
  },
  {
   "cell_type": "code",
   "execution_count": null,
   "id": "dac93033",
   "metadata": {},
   "outputs": [],
   "source": [
    "mainstem_names.to_csv('test_hcluster.csv', index = False)"
   ]
  },
  {
   "cell_type": "code",
   "execution_count": null,
   "id": "def2bcc0",
   "metadata": {},
   "outputs": [],
   "source": [
    "#Color map of missing data\n",
    "streams_chart = alt.Chart(elwha_streams).mark_geoshape(\n",
    "    stroke = 'black', fill = 'none'\n",
    ").project(\n",
    "    type='mercator'\n",
    ")\n",
    "\n",
    "sites_chart = alt.Chart(mainstem_names).mark_circle().encode(\n",
    "    longitude='LONG:Q',\n",
    "    latitude='LAT:Q',\n",
    "    color = alt.Color('ward5:N').scale(scheme=\"category10\"),\n",
    "    size=alt.value(25),\n",
    ").project(\n",
    "    \"mercator\"\n",
    ").properties(\n",
    "    width = 300,\n",
    "    height= 500\n",
    ")\n",
    "\n",
    "alt.layer(streams_chart, sites_chart)"
   ]
  }
 ],
 "metadata": {
  "kernelspec": {
   "display_name": "Python 3 (ipykernel)",
   "language": "python",
   "name": "python3"
  },
  "language_info": {
   "codemirror_mode": {
    "name": "ipython",
    "version": 3
   },
   "file_extension": ".py",
   "mimetype": "text/x-python",
   "name": "python",
   "nbconvert_exporter": "python",
   "pygments_lexer": "ipython3",
   "version": "3.11.6"
  }
 },
 "nbformat": 4,
 "nbformat_minor": 5
}
