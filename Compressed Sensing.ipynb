{
 "cells": [
  {
   "cell_type": "code",
   "execution_count": 1,
   "id": "50568eb2-d4e8-430d-998f-bff2c451b3ad",
   "metadata": {},
   "outputs": [],
   "source": [
    "import torch\n",
    "import torch.nn as nn\n",
    "import torch.optim as optim\n",
    "import matplotlib.pyplot as plt\n",
    "from tqdm import tqdm\n",
    "\n",
    "import numpy as np\n",
    "from scipy.optimize import minimize\n",
    "import copy\n",
    "\n",
    "import pandas as pd"
   ]
  },
  {
   "cell_type": "code",
   "execution_count": 2,
   "id": "a7d6b8db-146e-4f19-9726-33544e280ca6",
   "metadata": {},
   "outputs": [],
   "source": [
    "np.random.seed(0)\n",
    "\n",
    "class CompresedSensingInterpolator():\n",
    "    def __init__(self):\n",
    "        self.dataMean = None\n",
    "        self.timeSeriesLength = None\n",
    "\n",
    "    def _normalize(self, data):\n",
    "        mean = np.nanmean(data)\n",
    "        self.dataMean = mean\n",
    "        data = data - self.dataMean\n",
    "        return data\n",
    "\n",
    "    def _denormalize(self, data):\n",
    "        if self.dataMean == None: # if _normalize hasn't been called yet\n",
    "            return data\n",
    "        data = data + self.dataMean\n",
    "        return data\n",
    "\n",
    "    def _getDesignMatrix(self, ts, numBases):\n",
    "        A = []\n",
    "        # sample up to the nyquist frequency\n",
    "        omegas = np.linspace(1, self.timeSeriesLength // 2, numBases)\n",
    "        print(\"creating desing matrix\")\n",
    "        loop = tqdm(total = omegas.shape[0])\n",
    "        for omega in omegas:\n",
    "            bi_r = np.cos(omega * ts)\n",
    "            bi_i = np.sin(omega * ts)\n",
    "\n",
    "            A.append(bi_r)\n",
    "            A.append(bi_i)\n",
    "            loop.update()\n",
    "        loop.close()\n",
    "\n",
    "        A = np.array(A).T\n",
    "\n",
    "        return A\n",
    "\n",
    "    def _getDataWithoutNones(self,dataWithNones, ts):\n",
    "        '''\n",
    "        use all the data that is not None\n",
    "        '''\n",
    "        mask = np.isnan(dataWithNones)\n",
    "        dataWithNones = np.array(dataWithNones)\n",
    "        data = dataWithNones[~mask]\n",
    "\n",
    "        tsWithoutNones = ts[~mask]\n",
    "        return data, tsWithoutNones\n",
    "\n",
    "    def _getTs(self, dataWithNones):\n",
    "        '''\n",
    "        frame the whole time series as occuring across 2 pi\n",
    "        (this makes the math for basis functions easy)\n",
    "        '''\n",
    "        self.timeSeriesLength = dataWithNones.shape[0]\n",
    "        ts = np.linspace(0, 2 * np.pi, self.timeSeriesLength)\n",
    "        return ts\n",
    "\n",
    "    def _predict(self, A, coefficients):\n",
    "        return A @ coefficients\n",
    "\n",
    "    def _getFirstGuessOfCoefficients(self, data, A):\n",
    "        result = np.linalg.lstsq(A, data, rcond=None)\n",
    "        coefficients = result[0]\n",
    "        return coefficients\n",
    "\n",
    "#    def _getL1Norm(self, coefficients):\n",
    "#        return torch.linalg.norm(coefficients, 1)\n",
    "\n",
    "    def _getCoefficients(self, dataWithoutNones, tsWithoutNones, numBases, method=\"SLSQP\"):\n",
    "        A = self._getDesignMatrix(tsWithoutNones, numBases)\n",
    "        firstGuess = self._getFirstGuessOfCoefficients(dataWithoutNones, A)\n",
    "\n",
    "        # convert everything over to tensors to user Pytorch\n",
    "        A = torch.Tensor(A)\n",
    "        y = torch.Tensor(dataWithoutNones)\n",
    "        thetas = torch.nn.Parameter(torch.Tensor(firstGuess))\n",
    "\n",
    "        optimTheta = optim.Adam([thetas], lr=1e-1)\n",
    "\n",
    "        numSteps = 1000\n",
    "        lamda = 0.5\n",
    "        print(\"optimizing parameters\")\n",
    "        loop = tqdm(total=numSteps)\n",
    "        for i in range(numSteps):\n",
    "            # clear the gradient\n",
    "            optimTheta.zero_grad()\n",
    "\n",
    "            # make predictions\n",
    "            yHat = A @ thetas\n",
    "\n",
    "            # measure loss\n",
    "            loss1 = torch.linalg.norm(y - yHat, 2) # 2-norm of the error\n",
    "            loss2 = torch.linalg.norm(thetas, 1) # 1-norm of the parameters\n",
    "            loss = loss1 + (lamda * loss2)\n",
    "\n",
    "            # calculate backward pass\n",
    "            loss.backward()\n",
    "            optimTheta.step()\n",
    "            loop.update()\n",
    "        loop.close()\n",
    "\n",
    "        coefficients = thetas.detach().numpy()\n",
    "\n",
    "        return coefficients\n",
    "\n",
    "\n",
    "    def _getReconstruction(self, coefficients, dataWithNones, ts, numBases, ys):\n",
    "        # only model the missing times\n",
    "        mask = np.isnan(dataWithNones)\n",
    "        tsWithNones = ts[mask]\n",
    "        A = self._getDesignMatrix(tsWithNones, numBases)\n",
    "        reconstructedMissingData = self._predict(A, coefficients)\n",
    "        reconstructedFullData = copy.copy(dataWithNones)\n",
    "        reconstructedFullData[mask] = reconstructedMissingData\n",
    "        return reconstructedFullData\n",
    "\n",
    "    def interpolate(self, dataWithNones, numBases=100, ys=None, method=\"SLSQP\"):\n",
    "        '''\n",
    "        uses compressed sensing to interpolate missing data\n",
    "\n",
    "        numBases: the number of fourier basis functions to use\n",
    "        when building the interpolation model. More = more accurate.\n",
    "        '''\n",
    "        normalizedDataWithNones = self._normalize(dataWithNones)\n",
    "\n",
    "        ts = self._getTs(normalizedDataWithNones)\n",
    "        dataWithoutNones, tsWithoutNones = self._getDataWithoutNones(normalizedDataWithNones, ts)\n",
    "        coefficients = self._getCoefficients(dataWithoutNones, tsWithoutNones, numBases, method=method)\n",
    "        normalizedReconstruction = self._getReconstruction(coefficients, normalizedDataWithNones, ts, numBases, ys)\n",
    "\n",
    "        reconstruction = self._denormalize(normalizedReconstruction)\n",
    "\n",
    "        return reconstruction"
   ]
  },
  {
   "cell_type": "code",
   "execution_count": 3,
   "id": "9a9c20a2-eaa6-4324-89af-af30a0ca7d0a",
   "metadata": {},
   "outputs": [],
   "source": [
    "def riverTempPlot(df):\n",
    "    all_days = pd.date_range(df['DateTime'].min(), df['DateTime'].max(), freq='1H')\n",
    "    all_days = pd.DataFrame(all_days, columns=[\"DateTime\"])\n",
    "    ys = all_days.merge(df, on='DateTime', how='left')\n",
    "\n",
    "    ysMissing = ys.iloc[::10, :] #sampling only every second measurment to save on memory\n",
    "    ysMissing = np.asarray(ysMissing['Temp'])\n",
    "\n",
    "    method=\"SLSQP\" # \"BFGS\", etc. see the method paramter here -> https://docs.scipy.org/doc/scipy/reference/generated/scipy.optimize.minimize.html\n",
    "    numBases = int((ysMissing.shape[0]/2) + 1)\n",
    "    interpolator = CompresedSensingInterpolator()\n",
    "    ysComplete = interpolator.interpolate(ysMissing, numBases=numBases, method=method)\n",
    "\n",
    "    data = {'DateTime': np.asarray(ys.iloc[::10, :]['DateTime']),\n",
    "            'Missing': ysMissing,\n",
    "            'Interpolated': ysComplete}\n",
    "    df_interpolated = pd.DataFrame(data)\n",
    "\n",
    "    plt.scatter(df_interpolated['DateTime'], df_interpolated['Missing'], label=\"training data\")\n",
    "    plt.plot(df_interpolated['DateTime'], df_interpolated['Interpolated'], label=\"interpolated\", color='orange')\n",
    "    plt.legend()\n",
    "    plt.show()"
   ]
  },
  {
   "cell_type": "code",
   "execution_count": 4,
   "id": "2f74e2d5-7b99-44b5-b029-0be392c9d69c",
   "metadata": {},
   "outputs": [],
   "source": [
    "import tkinter as tk\n",
    "from tkinter import ttk\n",
    "from tkinter import messagebox\n",
    "\n",
    "class DataFrameFilterApp:\n",
    "    def __init__(self, root):\n",
    "        self.root = root\n",
    "        self.root.title(\"DataFrame Filter App\")\n",
    "\n",
    "        # Create DataFrame (replace this with your actual DataFrame)\n",
    "        self.df = pd.read_csv(\"elwha.cleaned.2000-2023.csv\", parse_dates=['DateTime'])\n",
    "\n",
    "        # Filter options\n",
    "        self.categories = ['All'] + list(self.df['Site'].unique())\n",
    "        self.category_var = tk.StringVar()\n",
    "        self.date_from_var = tk.StringVar()\n",
    "        self.date_to_var = tk.StringVar()\n",
    "\n",
    "        # Filter frame\n",
    "        filter_frame = ttk.LabelFrame(self.root, text=\"Filter\")\n",
    "        filter_frame.pack(padx=10, pady=10, fill='both', expand=True)\n",
    "\n",
    "        # Category filter\n",
    "        category_label = ttk.Label(filter_frame, text=\"Site:\")\n",
    "        category_label.grid(row=0, column=0, padx=5, pady=5, sticky='e')\n",
    "        category_combobox = ttk.Combobox(filter_frame, textvariable=self.category_var, values=self.categories, state='readonly')\n",
    "        category_combobox.grid(row=0, column=1, padx=5, pady=5, sticky='w')\n",
    "\n",
    "        # Date filter\n",
    "        date_from_label = ttk.Label(filter_frame, text=\"From:\")\n",
    "        date_from_label.grid(row=1, column=0, padx=5, pady=5, sticky='e')\n",
    "        date_from_entry = ttk.Entry(filter_frame, textvariable=self.date_from_var)\n",
    "        date_from_entry.grid(row=1, column=1, padx=5, pady=5, sticky='w')\n",
    "\n",
    "        date_to_label = ttk.Label(filter_frame, text=\"To:\")\n",
    "        date_to_label.grid(row=2, column=0, padx=5, pady=5, sticky='e')\n",
    "        date_to_entry = ttk.Entry(filter_frame, textvariable=self.date_to_var)\n",
    "        date_to_entry.grid(row=2, column=1, padx=5, pady=5, sticky='w')\n",
    "\n",
    "        # Filter button\n",
    "        filter_button = ttk.Button(filter_frame, text=\"Filter\", command=self.apply_filter)\n",
    "        filter_button.grid(row=3, columnspan=2, padx=5, pady=10)\n",
    "\n",
    "    def apply_filter(self):\n",
    "        # Apply filters\n",
    "        category_filter = self.category_var.get()\n",
    "        date_from_filter = self.date_from_var.get()\n",
    "        date_to_filter = self.date_to_var.get()\n",
    "\n",
    "        filtered_df = self.df.copy()\n",
    "\n",
    "        if category_filter != 'All':\n",
    "            filtered_df = filtered_df[filtered_df['Site'] == category_filter]\n",
    "\n",
    "        if date_from_filter and date_to_filter:\n",
    "            try:\n",
    "                filtered_df = filtered_df[(filtered_df['DateTime'] >= date_from_filter) & (filtered_df['DateTime'] <= date_to_filter)]\n",
    "            except ValueError:\n",
    "                messagebox.showerror(\"Error\", \"Invalid date format. Please use YYYY-MM-DD.\")\n",
    "\n",
    "        # Display filtered DataFrame (replace this with your display method)\n",
    "        # print(filtered_df)\n",
    "        riverTempPlot(filtered_df)"
   ]
  },
  {
   "cell_type": "code",
   "execution_count": 5,
   "id": "3eefcdcb-d2d0-47ea-b34d-3d67af97f249",
   "metadata": {},
   "outputs": [
    {
     "name": "stderr",
     "output_type": "stream",
     "text": [
      "C:\\Users\\chong\\AppData\\Local\\Temp\\ipykernel_13956\\1680927238.py:9: RuntimeWarning: Mean of empty slice\n",
      "  mean = np.nanmean(data)\n"
     ]
    },
    {
     "name": "stdout",
     "output_type": "stream",
     "text": [
      "creating desing matrix\n"
     ]
    },
    {
     "name": "stderr",
     "output_type": "stream",
     "text": [
      "100%|██████████████████████████████████████████████████████████████████████████| 4313/4313 [00:00<00:00, 361453.67it/s]\n"
     ]
    },
    {
     "name": "stdout",
     "output_type": "stream",
     "text": [
      "optimizing parameters\n"
     ]
    },
    {
     "name": "stderr",
     "output_type": "stream",
     "text": [
      "100%|████████████████████████████████████████████████████████████████████████████| 1000/1000 [00:00<00:00, 1442.33it/s]\n"
     ]
    },
    {
     "name": "stdout",
     "output_type": "stream",
     "text": [
      "creating desing matrix\n"
     ]
    },
    {
     "name": "stderr",
     "output_type": "stream",
     "text": [
      "100%|████████████████████████████████████████████████████████████████████████████| 4313/4313 [00:00<00:00, 5517.94it/s]\n"
     ]
    },
    {
     "data": {
      "image/png": "[encoded data removed]",
      "text/plain": [
       "<Figure size 640x480 with 1 Axes>"
      ]
     },
     "metadata": {},
     "output_type": "display_data"
    },
    {
     "name": "stdout",
     "output_type": "stream",
     "text": [
      "creating desing matrix\n"
     ]
    },
    {
     "name": "stderr",
     "output_type": "stream",
     "text": [
      "100%|██████████████████████████████████████████████████████████████████████████| 4313/4313 [00:00<00:00, 113406.47it/s]\n"
     ]
    },
    {
     "name": "stdout",
     "output_type": "stream",
     "text": [
      "optimizing parameters\n"
     ]
    },
    {
     "name": "stderr",
     "output_type": "stream",
     "text": [
      "100%|█████████████████████████████████████████████████████████████████████████████| 1000/1000 [00:01<00:00, 864.23it/s]\n"
     ]
    },
    {
     "name": "stdout",
     "output_type": "stream",
     "text": [
      "creating desing matrix\n"
     ]
    },
    {
     "name": "stderr",
     "output_type": "stream",
     "text": [
      "100%|████████████████████████████████████████████████████████████████████████████| 4313/4313 [00:00<00:00, 5165.78it/s]\n"
     ]
    },
    {
     "data": {
      "image/png": "[encoded data removed]",
      "text/plain": [
       "<Figure size 640x480 with 1 Axes>"
      ]
     },
     "metadata": {},
     "output_type": "display_data"
    }
   ],
   "source": [
    "def main():\n",
    "    root = tk.Tk()\n",
    "    app = DataFrameFilterApp(root)\n",
    "    root.mainloop()\n",
    "\n",
    "if __name__ == \"__main__\":\n",
    "    main()"
   ]
  },
  {
   "cell_type": "code",
   "execution_count": null,
   "id": "0da6971d-421e-4e08-8bf8-b8790225c1b5",
   "metadata": {},
   "outputs": [],
   "source": []
  }
 ],
 "metadata": {
  "kernelspec": {
   "display_name": "Python 3 (ipykernel)",
   "language": "python",
   "name": "python3"
  },
  "language_info": {
   "codemirror_mode": {
    "name": "ipython",
    "version": 3
   },
   "file_extension": ".py",
   "mimetype": "text/x-python",
   "name": "python",
   "nbconvert_exporter": "python",
   "pygments_lexer": "ipython3",
   "version": "3.9.13"
  }
 },
 "nbformat": 4,
 "nbformat_minor": 5
}
